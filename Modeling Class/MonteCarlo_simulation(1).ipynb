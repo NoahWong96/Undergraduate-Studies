
using PyPlot

function drawcircle(N)
    xx=-1:0.01:1
    plot(xx,sqrt(1-xx.^2),color="blue") # draw the upper half of the circle of radius 1
    plot(xx,-sqrt(1-xx.^2),color="blue") # draw the below half of the circle of radius 1
    
    T=0 # counter
    for i=1:N
        x=2*rand()-1 # draw a random point in [-1,1]x[-1,1]
        y=2*rand()-1
        
        if x^2+y^2< 1 # add 1 in the counter if the point (x,y) is in the circle
            T=T+1
        end
        
        plot(x,y,marker="o",color="red") # draw the points in the square [-1,1]x[-1,1]
    end
    
    
    return 4*T/N # Approximate area of the circle
end

drawcircle(100000)

function valueofpi(N) # The same as drawcircle but without the graphs
    
    T=0
    for i=1:N
        x=2*rand()-1
        y=2*rand()-1
        
        if x^2+y^2< 1
            T=T+1
        end
    end
    
    
    return 4*T/N
end

valueofpi(1000000000)

function integralsinc(N) 
    # Computation of an approxiamtion of the integral of (sin(x)/x)^2 between 0 and pi/2. 
    # We used a shorter algo (without loop for or condition if).
    
    x=pi/2*rand(N)
    y=rand(N)
    z=(sin(x)./x)
    
    return pi/2*sum(y.<z)/N
end   

integralsinc(1000000)

function isweekrainy(p)
    
    # Check if a week is rainy (ie got 3 consecutive rainy days) or not
    x=rand(7).<p
    
    s=0
    for i=1:7
        if x[i]==1
            s=s+1
        else 
            s=0
        end
        if s>=3
            break #it means that we go out of the loop "for"
        end
    end
    return s>=3
end

isweekrainy(0.5)

function pbrainyweek(N)
    # Compute the probability that the week is rainy by doing the experiment a large number of times.
    
    p=0.50
    T=0
    for i=1:N
        T=T+isweekrainy(p)
    end
    return T/N
end

pbrainyweek(100000)

function rangeofpb(e,n) # 'e' is the number of times that the week is rainy. That is 'e' is the sum 'X1+X2+ ... + Xn', that is 'T'is 'pbrainyweek'.
    # Compute the precision of our results (with the CLT). 
    # Below is only the compuation of the roots of some polynomial of degree 2 ... check yourself why it does come from the CLT!
    
    a=n^2+4*n
    b=-2*e*n-4*n
    c=e^2
    Delta=b^2-4*a*c
    return [(-b-sqrt(Delta))/2/a, (-b+sqrt(Delta))/2/a]
end

rangeofpb(36685,100000)
