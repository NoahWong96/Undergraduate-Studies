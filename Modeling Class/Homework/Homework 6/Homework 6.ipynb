{
 "cells": [
  {
   "cell_type": "markdown",
   "metadata": {},
   "source": [
    "Homework 6 \n",
    "\n",
    "Code Section\n",
    "\n",
    "Noah Wong"
   ]
  },
  {
   "cell_type": "code",
   "execution_count": 44,
   "metadata": {},
   "outputs": [
    {
     "name": "stdout",
     "output_type": "stream",
     "text": [
      "0.0202837316824116\n",
      "0.060906873047088084\n"
     ]
    }
   ],
   "source": [
    "#Two growth equation R1 returns growth in b, R2 returns growth in f\n",
    "R1(b,f) = (0.08*b)*((b-3000)/(b+3000))*(1-(b/150000)) - (10.0^-8) * b*f\n",
    "R2(b,f) = (0.08*f)*((f-15000)/(f+15000))*(1-(f/400000)) - (10.0^-8) * b*f\n",
    "\n",
    "#This is our (B*,F*) it shows that (B*,F*) ≈ 0\n",
    "println(R1(142327,392317))\n",
    "println(R2(142327,392317))"
   ]
  },
  {
   "cell_type": "code",
   "execution_count": 39,
   "metadata": {},
   "outputs": [
    {
     "name": "stdout",
     "output_type": "stream",
     "text": [
      "5000  70000\n",
      "8254.092931733394  162887.74287737656\n",
      "18433.96442099194  294091.53268144035\n",
      "47150.22313437336  368824.4383936555\n",
      "94518.44472612694  389553.4621086936\n",
      "127446.59974575191  392731.96852556785\n",
      "138694.7505442405  392684.70901880896\n",
      "141501.04981998802  392463.24387736333\n",
      "142142.16873566122  392364.4928952829\n",
      "142285.86409286634  392331.3993560604\n",
      "142317.99047050907  392321.55675710936\n",
      "142325.1819551428  392318.8142349862\n",
      "142326.79504972056  392318.0806771208\n",
      "142327.15766275447  392317.889866312\n",
      "142327.23935105055  392317.8412239346\n",
      "142327.25779195712  392317.82901072444\n",
      "142327.2619633205  392317.82598019583\n",
      "142327.26290871177  392317.8252352478\n",
      "142327.26312336902  392317.8250535196\n",
      "142327.26317219395  392317.8250094651\n",
      "142327.26318331793  392317.8249988412\n"
     ]
    }
   ],
   "source": [
    "#Simulates the whale populations prints every 20th year\n",
    "function Whale_Population(b,f)\n",
    "    for i in 0:400\n",
    "        if i%20 == 0\n",
    "            println(b, \"  \", f)\n",
    "        end\n",
    "        b = b + R1(b,f)\n",
    "        f = f + R2(b,f)\n",
    "    end\n",
    "end\n",
    "        \n",
    "Whale_Population(5000,70000)"
   ]
  },
  {
   "cell_type": "code",
   "execution_count": 38,
   "metadata": {},
   "outputs": [
    {
     "data": {
      "text/plain": [
       "T2 (generic function with 1 method)"
      ]
     },
     "execution_count": 38,
     "metadata": {},
     "output_type": "execute_result"
    }
   ],
   "source": [
    "#New functions with 10,000 as minimum viable population for blue whales\n",
    "T1(b,f) = (0.08*b)*((b-10000)/(b+10000))*(1-(b/150000)) - (10.0^-8) * b*f\n",
    "T2(b,f) = (0.08*f)*((f-15000)/(f+15000))*(1-(f/400000)) - (10.0^-8) * b*f"
   ]
  },
  {
   "cell_type": "code",
   "execution_count": 42,
   "metadata": {},
   "outputs": [
    {
     "name": "stdout",
     "output_type": "stream",
     "text": [
      "5000  70000\n",
      "2340.7087940829433  162970.84605234305\n",
      "648.3147284108077  294645.13685576146\n",
      "127.77337369197537  370470.77486001106\n",
      "22.686897875568825  393227.7090158982\n",
      "3.94256896745093  398528.4244205854\n",
      "0.6824441585715398  399684.127509146\n",
      "0.11804433108003148  399932.37963785493\n",
      "0.020415833528761154  399985.53281154565\n",
      "0.003530846938780696  399996.9052349178\n",
      "0.0006106449821409707  399999.3380098125\n"
     ]
    }
   ],
   "source": [
    "#Simulates the whale populations prints every 20th year\n",
    "function Whale_Population2(b,f)\n",
    "    for i in 0:200\n",
    "        if i%20 == 0\n",
    "            println(b, \"  \", f)\n",
    "        end\n",
    "        b = b + T1(b,f)\n",
    "        f = f + T2(b,f)\n",
    "    end\n",
    "end\n",
    "\n",
    "Whale_Population2(5000,70000)"
   ]
  }
 ],
 "metadata": {
  "kernelspec": {
   "display_name": "Julia 0.6.2",
   "language": "julia",
   "name": "julia-0.6"
  },
  "language_info": {
   "file_extension": ".jl",
   "mimetype": "application/julia",
   "name": "julia",
   "version": "0.6.2"
  }
 },
 "nbformat": 4,
 "nbformat_minor": 2
}
