{
 "cells": [
  {
   "cell_type": "markdown",
   "metadata": {},
   "source": [
    "### Homework 6 \n",
    "\n",
    "5.) In the whale problem of Example 4.2 we used a logistic model of population\n",
    "growth, where the growth rate of population P in the absence of\n",
    "interspecies competition is\n",
    "\n",
    "$$g(P) = rP \\bigg(1-\\frac{P}{K}\\bigg)$$\n",
    "\n",
    "In this problem we will be using a more complex model,\n",
    "\n",
    "$$g(P) = rP \\bigg(\\frac{P-c}{P+c} \\bigg) \\bigg( 1 - \\frac{P}{K} \\bigg),$$\n",
    "\n",
    "in which the parameter c represents a minimum viable population level\n",
    "below which the growth rate is negative. Assume that $\\alpha = 10^{−8}$ and that the minimum viable population level is $3,000$ for blue whales and $15,000$ for fin whales.\n",
    "\n",
    "**Example 4.2** \n",
    "\n",
    "The blue whale and fin whale are two similar species that inhabit the same areas. Hence, they are thought to compete. The intrinsic growth rate of each species is estimated at $5\\%$ per year for the blue whale and $8\\%$ per year for the fin whale. The environmental carrying capacity (the maximum number of whales that the environment can support) is estimated at $150,000$ blues and $400,000$ fins. The extent to which the whales compete is unknown. In the last $100$ years intense harvesting has reduced the whale population to around $5,000$ blues and $70,000$ fins. Will the blue whale become extinct?\n",
    "\n",
    "Here you have the variables $r$ for the growth rate of the whale populations, $P$ for the population of whales, $K$ is the carry capacity of the environment for each whale. The new variable introduced in the more complex model is $c$ which represents a minimum viable population level."
   ]
  },
  {
   "cell_type": "markdown",
   "metadata": {},
   "source": [
    "**(a)** Can the two species of whales coexist? \n",
    "\n",
    "We start by defining out two growth equations, *growth_blue* and *growth_fin* which given the current popluations of blue and fin whales return the change in population over the year of blue and fin whales respectively. Both equations take $b$ and $f$ as the current blue and fin whale populations. We have added the effect of competition term on the end of each equation as $-\\alpha * blue * fin$, with $\\alpha = 10^{-8}$. \n",
    "\n",
    "We can solve problem (a) by showing there exists a specific population of blue and fin whales that will result in both growth equations returning $0$. To find these populations you set each equation equal to zero and solve the system of equations for *blue* and *fin*. I've omitted the steps to finding these populations as it involves numerous algebriac steps, but below I included the two populations, $(blue, \\, fin) = (142327, 392318),$ that results in no change of population. Since there exists a certain population at which neither whale's population increases or decrease it is possible for both whale species to exist simultaneously."
   ]
  },
  {
   "cell_type": "code",
   "execution_count": 12,
   "metadata": {},
   "outputs": [
    {
     "name": "stdout",
     "output_type": "stream",
     "text": [
      "0.018860461682379537\n",
      "-0.011668522337799914\n"
     ]
    }
   ],
   "source": [
    "#Two growth equation R1 returns growth in b, R2 returns growth in f\n",
    "growth_blue(blue,fin) = (0.08*blue)*((blue-3000)/(blue+3000))*(1-(blue/150000)) - (10.0^-8) * blue*fin\n",
    "growth_fin(blue,fin) = (0.08*fin)*((fin-15000)/(fin+15000))*(1-(fin/400000)) - (10.0^-8) * blue*fin\n",
    "\n",
    "#This is our (B*,F*) it shows that (B*,F*) ≈ 0\n",
    "println(growth_blue(142327,392318))\n",
    "println(growth_fin(142327,392318))"
   ]
  },
  {
   "cell_type": "markdown",
   "metadata": {},
   "source": [
    "**(c)** Assuming that there are currently 5,000 blue whales and 70,000 fin\n",
    "whales, what does this model predict about the future of the two\n",
    "populations?\n",
    "\n",
    "To solve this problem I created the *Whale_Population* function that models whale populations from some initial values, the two input values, and prints the populations every 20 years for 400 years. From the values return we can see that by year 240, the whale populations are stable at the equilibrium point, $(142327, 392318).$ So the model predicts that the whales will coexist at stable populations."
   ]
  },
  {
   "cell_type": "code",
   "execution_count": 11,
   "metadata": {},
   "outputs": [
    {
     "name": "stdout",
     "output_type": "stream",
     "text": [
      "Year 0 Blue Pop: 5000  Fin Pop:  70000\n",
      "Year 20 Blue Pop: 8254.0  Fin Pop:  162888.0\n",
      "Year 40 Blue Pop: 18434.0  Fin Pop:  294092.0\n",
      "Year 60 Blue Pop: 47150.0  Fin Pop:  368824.0\n",
      "Year 80 Blue Pop: 94518.0  Fin Pop:  389553.0\n",
      "Year 100 Blue Pop: 127447.0  Fin Pop:  392732.0\n",
      "Year 120 Blue Pop: 138695.0  Fin Pop:  392685.0\n",
      "Year 140 Blue Pop: 141501.0  Fin Pop:  392463.0\n",
      "Year 160 Blue Pop: 142142.0  Fin Pop:  392364.0\n",
      "Year 180 Blue Pop: 142286.0  Fin Pop:  392331.0\n",
      "Year 200 Blue Pop: 142318.0  Fin Pop:  392322.0\n",
      "Year 220 Blue Pop: 142325.0  Fin Pop:  392319.0\n",
      "Year 240 Blue Pop: 142327.0  Fin Pop:  392318.0\n",
      "Year 260 Blue Pop: 142327.0  Fin Pop:  392318.0\n",
      "Year 280 Blue Pop: 142327.0  Fin Pop:  392318.0\n",
      "Year 300 Blue Pop: 142327.0  Fin Pop:  392318.0\n",
      "Year 320 Blue Pop: 142327.0  Fin Pop:  392318.0\n",
      "Year 340 Blue Pop: 142327.0  Fin Pop:  392318.0\n",
      "Year 360 Blue Pop: 142327.0  Fin Pop:  392318.0\n",
      "Year 380 Blue Pop: 142327.0  Fin Pop:  392318.0\n",
      "Year 400 Blue Pop: 142327.0  Fin Pop:  392318.0\n"
     ]
    }
   ],
   "source": [
    "#Simulates the whale populations prints every 20th year\n",
    "function Whale_Population(blue,fin)\n",
    "    for i in 0:400\n",
    "        if i%20 == 0\n",
    "            println(\"Year \", i, \" Blue Pop: \", round(blue), \"  Fin Pop:  \", round(fin))\n",
    "        end\n",
    "        blue = blue + growth_blue(blue,fin)\n",
    "        fin = fin + growth_fin(blue,fin)\n",
    "    end\n",
    "end\n",
    "        \n",
    "Whale_Population(5000,70000)"
   ]
  },
  {
   "cell_type": "markdown",
   "metadata": {},
   "source": [
    "**(d)** Suppose that we have underestimated the minimum viable population\n",
    "for the blue whale, and that it is actually closer to 10,000. Now\n",
    "what happens to the two species?\n",
    "\n",
    "Below we recreated the two growth equations this time with $c = 10,000$ in the blue whale equation. The fin whale equation is the same, but I initialize a new equation to avoid confusion."
   ]
  },
  {
   "cell_type": "code",
   "execution_count": 14,
   "metadata": {},
   "outputs": [
    {
     "data": {
      "text/plain": [
       "growth_fin2 (generic function with 1 method)"
      ]
     },
     "execution_count": 14,
     "metadata": {},
     "output_type": "execute_result"
    }
   ],
   "source": [
    "#New functions with 10,000 as minimum viable population for blue whales\n",
    "growth_blue2(blue,fin) = (0.08*blue)*((blue-10000)/(blue+10000))*(1-(blue/150000)) - (10.0^-8) * blue*fin\n",
    "growth_fin2(blue,fin) = (0.08*fin)*((fin-15000)/(fin+15000))*(1-(fin/400000)) - (10.0^-8) * blue*fin"
   ]
  },
  {
   "cell_type": "markdown",
   "metadata": {},
   "source": [
    "*Whale_Population2* is the same function as *Whale_Population* just with the new growth functions. We only need to go 200 years to see the result of this scenario. Since the initial blue whale population, 5000, is below the minimum viable population level of 10000, we see the blue whales go existent at around year 120. Without the competition from the blue whales, the fin whales grow until their maximum carry capacity, in this case around 400000. "
   ]
  },
  {
   "cell_type": "code",
   "execution_count": 15,
   "metadata": {},
   "outputs": [
    {
     "name": "stdout",
     "output_type": "stream",
     "text": [
      "Year 0 Blue Pop: 5000  Fin Pop:  70000\n",
      "Year 20 Blue Pop: 2341.0  Fin Pop:  162971.0\n",
      "Year 40 Blue Pop: 648.0  Fin Pop:  294645.0\n",
      "Year 60 Blue Pop: 128.0  Fin Pop:  370471.0\n",
      "Year 80 Blue Pop: 23.0  Fin Pop:  393228.0\n",
      "Year 100 Blue Pop: 4.0  Fin Pop:  398528.0\n",
      "Year 120 Blue Pop: 1.0  Fin Pop:  399684.0\n",
      "Year 140 Blue Pop: 0.0  Fin Pop:  399932.0\n",
      "Year 160 Blue Pop: 0.0  Fin Pop:  399986.0\n",
      "Year 180 Blue Pop: 0.0  Fin Pop:  399997.0\n",
      "Year 200 Blue Pop: 0.0  Fin Pop:  399999.0\n"
     ]
    }
   ],
   "source": [
    "#Simulates the whale populations prints every 20th year\n",
    "function Whale_Population2(blue,fin)\n",
    "    for i in 0:200\n",
    "        if i%20 == 0\n",
    "            println(\"Year \", i, \" Blue Pop: \", round(blue), \"  Fin Pop:  \", round(fin))\n",
    "        end\n",
    "        blue = blue + growth_blue2(blue,fin)\n",
    "        fin = fin + growth_fin2(blue,fin)\n",
    "    end\n",
    "end\n",
    "\n",
    "Whale_Population2(5000,70000)"
   ]
  }
 ],
 "metadata": {
  "kernelspec": {
   "display_name": "Julia 0.6.2",
   "language": "julia",
   "name": "julia-0.6"
  },
  "language_info": {
   "file_extension": ".jl",
   "mimetype": "application/julia",
   "name": "julia",
   "version": "0.6.2"
  }
 },
 "nbformat": 4,
 "nbformat_minor": 2
}
