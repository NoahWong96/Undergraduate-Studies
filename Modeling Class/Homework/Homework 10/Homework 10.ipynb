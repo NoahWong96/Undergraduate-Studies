{
 "cells": [
  {
   "cell_type": "markdown",
   "metadata": {
    "slideshow": {
     "slide_type": "subslide"
    }
   },
   "source": [
    "Homework Due 4-18\n",
    "\n",
    "Mathematical Modeling\n",
    "\n",
    "\n",
    "Noah Wong -5057635"
   ]
  },
  {
   "cell_type": "code",
   "execution_count": 40,
   "metadata": {},
   "outputs": [],
   "source": [
    "using PyPlot"
   ]
  },
  {
   "cell_type": "markdown",
   "metadata": {},
   "source": [
    "Chapter 7 Problem 16"
   ]
  },
  {
   "cell_type": "code",
   "execution_count": 58,
   "metadata": {},
   "outputs": [
    {
     "name": "stdout",
     "output_type": "stream",
     "text": [
      "1.8973665961010278\n"
     ]
    }
   ],
   "source": [
    "#concentration at municipal well, this returns an answer for part (a), the \n",
    "Px(x,t) = (3.6/sqrt(t))*e^((-(x + 1800-500*t)^2)/(5000*t))\n",
    "P(t) = (3.6/sqrt(t))*e^((-(1800-500*t)^2)/(5000*t))\n",
    "println(Px(0, 3.6))"
   ]
  },
  {
   "cell_type": "code",
   "execution_count": 59,
   "metadata": {},
   "outputs": [
    {
     "data": {
      "text/plain": [
       "safe_concentration (generic function with 3 methods)"
      ]
     },
     "execution_count": 59,
     "metadata": {},
     "output_type": "execute_result"
    }
   ],
   "source": [
    "#This function will determine the time (in years) the municipal's concentration exceeds the safe limit (first_break) and when the concentration goes below the safe level (second_break). It only returns the second break because the question only asks that and it's needed for parts (a) and (b)  \n",
    "function safe_concentration(min,v,w) \n",
    "    first_break = 0\n",
    "    second_break = 0\n",
    "    \n",
    "    for i in (2500:3000)\n",
    "        t = 0.001*i\n",
    "        \n",
    "        C = Pw(t,v,w)\n",
    "    \n",
    "        if C > min\n",
    "            println(\"t:  \", t, \"  P(t) = \", C )\n",
    "            first_break = i \n",
    "            break\n",
    "        end\n",
    "    \n",
    "    end\n",
    "    \n",
    "    # starts right where the first loop stopped\n",
    "    for i in (first_break + 0.001:8000)\n",
    "        t = 0.001*i\n",
    "        \n",
    "        C = Pw(t,v,w)\n",
    "    \n",
    "        #switch from greater than to less than on the inequality\n",
    "        if C < min\n",
    "            println(\"t:  \", t, \"  P(t) = \", C )\n",
    "            second_break = i\n",
    "            break\n",
    "        end\n",
    "    \n",
    "    end\n",
    "    return 0.001 * second_break\n",
    "end\n"
   ]
  },
  {
   "cell_type": "code",
   "execution_count": 60,
   "metadata": {},
   "outputs": [
    {
     "name": "stdout",
     "output_type": "stream",
     "text": [
      "t:  2.931  P(t) = 0.0010161930621902541\n",
      "t:  4.411001000000001  P(t) = 0.0009911969667749897\n"
     ]
    },
    {
     "data": {
      "text/plain": [
       "4.411001000000001"
      ]
     },
     "execution_count": 60,
     "metadata": {},
     "output_type": "execute_result"
    }
   ],
   "source": [
    "#This returns the answer to part (b)\n",
    "safe_concentration(0.001,500,200)"
   ]
  },
  {
   "cell_type": "code",
   "execution_count": 24,
   "metadata": {},
   "outputs": [
    {
     "data": {
      "text/plain": [
       "Pv (generic function with 1 method)"
      ]
     },
     "execution_count": 24,
     "metadata": {},
     "output_type": "execute_result"
    }
   ],
   "source": [
    "#Measuring sensitivity with respect to the groundwater velocity and the width of plume needed for the two sensitivies functions\n",
    "Pw(t,v,w) = (3.6/sqrt(t))*e^((-(1800-v*t)^2)/(2*(w^2/16)*t)"
   ]
  },
  {
   "cell_type": "code",
   "execution_count": 61,
   "metadata": {},
   "outputs": [
    {
     "name": "stdout",
     "output_type": "stream",
     "text": [
      "t:  2.931  P(t) = 0.0010161930621902541\n",
      "t:  4.411001000000001  P(t) = 0.0009911969667749897\n",
      "t:  2.931  P(t) = 0.001002681078625384\n",
      "t:  4.412001  P(t) = 0.0009906169262485299\n",
      "-1.1335295548555142\n"
     ]
    }
   ],
   "source": [
    "#approximates the sensitivity of when the well is at a safe level determined by the groundwater velocity (v) answer to (c)\n",
    "function sensitivity_velocity(v)\n",
    "    \n",
    "    True_C = safe_concentration(0.001,v,200)\n",
    "     \n",
    "    v₀ = v - 0.1\n",
    "    \n",
    "    C₀ = safe_concentration(0.001,v₀,200)\n",
    "    \n",
    "    sens = ((True_C - C₀)/0.1) * (v/True_C)\n",
    "    println(sens)\n",
    "    \n",
    "end\n",
    "sensitivity_velocity(500)"
   ]
  },
  {
   "cell_type": "code",
   "execution_count": 63,
   "metadata": {},
   "outputs": [
    {
     "name": "stdout",
     "output_type": "stream",
     "text": [
      "t:  2.931  P(t) = 0.0010161930621902541\n",
      "t:  4.411001000000001  P(t) = 0.0009911969667749897\n",
      "t:  2.934  P(t) = 0.0010155703761609049\n",
      "t:  4.407001  P(t) = 0.0009839573881233802\n",
      "0.18136472877700308\n"
     ]
    }
   ],
   "source": [
    "#approximates the sensitivity of when the well is at a safe level determined by the groundwater velocity (v) answer to (d)\n",
    "function sensitivity_width(w)\n",
    "    \n",
    "    True_C = safe_concentration(0.001,500,w)\n",
    "     \n",
    "    w₀ = w - 1\n",
    "    \n",
    "    C₀ = safe_concentration(0.001,500,w₀)\n",
    "    \n",
    "    sens = ((True_C - C₀)/1) * (w/True_C)\n",
    "    println(sens)\n",
    "    \n",
    "end\n",
    "sensitivity_width(200)\n"
   ]
  },
  {
   "cell_type": "markdown",
   "metadata": {},
   "source": [
    "Chapter 8 Problem 1"
   ]
  },
  {
   "cell_type": "code",
   "execution_count": 69,
   "metadata": {},
   "outputs": [
    {
     "name": "stdout",
     "output_type": "stream",
     "text": [
      "[0.368 0.632]\n"
     ]
    }
   ],
   "source": [
    "#Markov is the transition matrix and Mπ is the steady state distribution\n",
    "Markov = reshape([0.368,0.368,0.632,0.632],2,2)\n",
    "Mπ =transpose([1,0])\n",
    "for i in 0:4\n",
    "    Mπ = Mπ*Markov\n",
    "end\n",
    "println(Mπ)"
   ]
  },
  {
   "cell_type": "code",
   "execution_count": 46,
   "metadata": {},
   "outputs": [
    {
     "data": {
      "text/plain": [
       "poisson (generic function with 1 method)"
      ]
     },
     "execution_count": 46,
     "metadata": {},
     "output_type": "execute_result"
    }
   ],
   "source": [
    "#Helps Prob_lost_sale an easier function to write\n",
    "poisson(λ,x) = (e.^-λ) .* (λ .^ x)/factorial(x) "
   ]
  },
  {
   "cell_type": "code",
   "execution_count": 50,
   "metadata": {},
   "outputs": [
    {
     "data": {
      "text/plain": [
       "1×5 Array{Float64,2}:\n",
       " 6.92126e-310  6.92126e-310  6.92122e-310  6.92122e-310  6.92126e-310"
      ]
     },
     "execution_count": 50,
     "metadata": {},
     "output_type": "execute_result"
    }
   ],
   "source": [
    "#Returns the probability the demand will exceed the supply\n",
    "Prob_lost_sale(λ) = (1 .- (poisson(λ,2) .+ poisson(λ,1) .+ poisson(λ,0))) .* (poisson(λ,0)) .+\n",
    "                    ((1 .- (poisson(λ,3) .+ poisson(λ,2) .+ poisson(λ,1) .+ poisson(λ,0))) .* (1 .- poisson(λ,0)))\n",
    "\n",
    "test_λ = Array{Float64, 2}(1,5)\n",
    "test_λ = [0.75, 0.9, 1.0, 1.1 ,1.25]\n",
    "test_lost_sale = Array{Float64, 2}(1,5)"
   ]
  },
  {
   "cell_type": "code",
   "execution_count": 36,
   "metadata": {},
   "outputs": [
    {
     "name": "stdout",
     "output_type": "stream",
     "text": [
      "[0.022981 0.0335425 0.041544 0.0503217 0.0649894]"
     ]
    }
   ],
   "source": [
    "#this returns the probabilty that demand will exceed the supply for all 5 λ values\n",
    "for i in 1:5\n",
    "    test_lost_sale[i] = Prob_lost_sale(test_λ[i])\n",
    "end\n",
    "print(test_lost_sale)"
   ]
  },
  {
   "cell_type": "code",
   "execution_count": 54,
   "metadata": {},
   "outputs": [
    {
     "data": {
      "image/png": "[encoded data removed]",
      "text/plain": [
       "PyPlot.Figure(PyObject <matplotlib.figure.Figure object at 0x7f6863fdf390>)"
      ]
     },
     "metadata": {},
     "output_type": "display_data"
    },
    {
     "data": {
      "text/plain": [
       "1-element Array{PyCall.PyObject,1}:\n",
       " PyObject <matplotlib.lines.Line2D object at 0x7f6863ecaf10>"
      ]
     },
     "execution_count": 54,
     "metadata": {},
     "output_type": "execute_result"
    }
   ],
   "source": [
    "#Graphes the lambda values from 0.75 to 1.25\n",
    "t = 0.75:0.01:1.25;\n",
    "y = Prob_lost_sale(t)\n",
    "plot(t,y)"
   ]
  },
  {
   "cell_type": "code",
   "execution_count": 64,
   "metadata": {},
   "outputs": [
    {
     "data": {
      "text/plain": [
       "sensitivity (generic function with 1 method)"
      ]
     },
     "execution_count": 64,
     "metadata": {},
     "output_type": "execute_result"
    }
   ],
   "source": [
    "#Sensitivity to choice of lambda\n",
    "function sensitivity2(λ)\n",
    "    #Finds the probility of the true lambda\n",
    "    true_p = Prob_lost_sale(λ)\n",
    "    \n",
    "    #λ₀ is lambda minus a small increment, used to approximate a derivative\n",
    "    λ₀ = λ .- 0.001\n",
    "    \n",
    "    p₀ = Prob_lost_sale(λ₀)\n",
    "    \n",
    "    \n",
    "    return ((true_p .- p₀)./(0.001)).*(λ./ true_p)\n",
    "    \n",
    "end\n"
   ]
  },
  {
   "cell_type": "code",
   "execution_count": 65,
   "metadata": {},
   "outputs": [
    {
     "data": {
      "text/plain": [
       "5-element Array{Float64,1}:\n",
       " 2.10668\n",
       " 2.04291\n",
       " 2.01787\n",
       " 2.00403\n",
       " 1.99859"
      ]
     },
     "execution_count": 65,
     "metadata": {},
     "output_type": "execute_result"
    }
   ],
   "source": [
    "sensitivity2(test_λ)"
   ]
  },
  {
   "cell_type": "markdown",
   "metadata": {},
   "source": [
    "Chapter 8 Problem 5"
   ]
  },
  {
   "cell_type": "code",
   "execution_count": 80,
   "metadata": {},
   "outputs": [
    {
     "name": "stdout",
     "output_type": "stream",
     "text": [
      "[0.333333 0.200002 0.466665]\n"
     ]
    }
   ],
   "source": [
    "MarketMatrix = reshape([0.9, 0.05, 0.05, 0.02, 0.85, 0.05, 0.08, 0.1, 0.9],3,3)\n",
    "Market_π = transpose([1/3, 1/3, 1/3])\n",
    "for i in 0:50\n",
    "    Market_π = Market_π*MarketMatrix\n",
    "end\n",
    "println(Market_π)"
   ]
  }
 ],
 "metadata": {
  "kernelspec": {
   "display_name": "Julia 0.6.2",
   "language": "julia",
   "name": "julia-0.6"
  },
  "language_info": {
   "file_extension": ".jl",
   "mimetype": "application/julia",
   "name": "julia",
   "version": "0.6.2"
  }
 },
 "nbformat": 4,
 "nbformat_minor": 2
}
