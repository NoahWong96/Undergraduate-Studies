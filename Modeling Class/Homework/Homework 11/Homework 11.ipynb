{
 "cells": [
  {
   "cell_type": "code",
   "execution_count": null,
   "metadata": {},
   "outputs": [],
   "source": [
    "function ntest(n, int)\n",
    "    q = 0.003\n",
    "    check = true\n",
    "    i = 0\n",
    "    lower_bound = 100\n",
    "    upper_bound = 100\n",
    "    \n",
    "    while(check)\n",
    "        n = n + 1\n",
    "        i += 1\n",
    "        a = 4*n + n^2\n",
    "        b = -(2*q *n*n + 4*n)\n",
    "        c = (q*n)^2\n",
    "        \n",
    "        determinant = b^2 - (4 * a * c)\n",
    "        \n",
    "        lower_bound = (-b - sqrt(determinant))/(2*a)\n",
    "        upper_bound = (-b + sqrt(determinant))/(2*a)\n",
    "        \n",
    "        if(abs(lower_bound- q ) <int && abs(upper_bound - q) < int)\n",
    "            check = false\n",
    "        end\n",
    "        if (i > 1000000000)\n",
    "            print(\"failed\")\n",
    "            return lower_bound, upper_bound\n",
    "        end \n",
    "    end\n",
    "    return n, lower_bound, upper_bound    \n",
    "end"
   ]
  }
 ],
 "metadata": {
  "kernelspec": {
   "display_name": "Julia 0.6.2",
   "language": "julia",
   "name": "julia-0.6"
  },
  "language_info": {
   "file_extension": ".jl",
   "mimetype": "application/julia",
   "name": "julia",
   "version": "0.6.2"
  }
 },
 "nbformat": 4,
 "nbformat_minor": 2
}
