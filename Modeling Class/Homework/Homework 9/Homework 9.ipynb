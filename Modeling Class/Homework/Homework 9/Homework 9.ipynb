{
 "cells": [
  {
   "cell_type": "markdown",
   "metadata": {},
   "source": [
    "Noah Wong\n",
    "Mathematical Modeling"
   ]
  },
  {
   "cell_type": "code",
   "execution_count": 1,
   "metadata": {},
   "outputs": [],
   "source": [
    "using PyPlot"
   ]
  },
  {
   "cell_type": "markdown",
   "metadata": {},
   "source": [
    "Noah Wong\n",
    "Mathematical Modeling\n",
    "\n",
    "Question 1"
   ]
  },
  {
   "cell_type": "code",
   "execution_count": 4,
   "metadata": {},
   "outputs": [
    {
     "data": {
      "text/plain": [
       "A (generic function with 1 method)"
      ]
     },
     "execution_count": 4,
     "metadata": {},
     "output_type": "execute_result"
    }
   ],
   "source": [
    "A(x) = (4./x) + 6 - 5*(0.997).^x"
   ]
  },
  {
   "cell_type": "code",
   "execution_count": 6,
   "metadata": {},
   "outputs": [
    {
     "data": {
      "image/png": "[encoded data removed]",
      "text/plain": [
       "PyPlot.Figure(PyObject <matplotlib.figure.Figure object at 0x7f60db477f90>)"
      ]
     },
     "metadata": {},
     "output_type": "display_data"
    },
    {
     "data": {
      "text/plain": [
       "1-element Array{PyCall.PyObject,1}:\n",
       " PyObject <matplotlib.lines.Line2D object at 0x7f60db45ead0>"
      ]
     },
     "execution_count": 6,
     "metadata": {},
     "output_type": "execute_result"
    }
   ],
   "source": [
    "t = 1.0:0.1:100.0;\n",
    "y = A(t)\n",
    "plot(t,y)"
   ]
  },
  {
   "cell_type": "code",
   "execution_count": 41,
   "metadata": {},
   "outputs": [
    {
     "data": {
      "text/plain": [
       "ddA (generic function with 1 method)"
      ]
     },
     "execution_count": 41,
     "metadata": {},
     "output_type": "execute_result"
    }
   ],
   "source": [
    "dA(x) = -(4/x^2) - 5*(log(0.997))*(0.997)^x\n",
    "ddA(x) = (8/x^3) - 5*(log(0.997)^2)*(0.997)^x"
   ]
  },
  {
   "cell_type": "code",
   "execution_count": 52,
   "metadata": {},
   "outputs": [
    {
     "data": {
      "text/plain": [
       "Newton (generic function with 2 methods)"
      ]
     },
     "execution_count": 52,
     "metadata": {},
     "output_type": "execute_result"
    }
   ],
   "source": [
    "function Newton(w1,N) \n",
    "    x=w1;\n",
    "    for n=2:N\n",
    "        #println(x)\n",
    "        x= x - dA(x)/ddA(x)\n",
    "    end\n",
    "    return x\n",
    "end"
   ]
  },
  {
   "cell_type": "code",
   "execution_count": 54,
   "metadata": {},
   "outputs": [
    {
     "data": {
      "text/plain": [
       "16.73305471208393"
      ]
     },
     "execution_count": 54,
     "metadata": {},
     "output_type": "execute_result"
    }
   ],
   "source": [
    "Newton(10,20)"
   ]
  },
  {
   "cell_type": "markdown",
   "metadata": {},
   "source": [
    "Estimating the minimum with Newton's method gives us 16.733... "
   ]
  },
  {
   "cell_type": "code",
   "execution_count": 44,
   "metadata": {},
   "outputs": [
    {
     "data": {
      "text/plain": [
       "Minimum (generic function with 1 method)"
      ]
     },
     "execution_count": 44,
     "metadata": {},
     "output_type": "execute_result"
    }
   ],
   "source": [
    "function Minimum(a,b)\n",
    "    n = b-a \n",
    "    minimum = A(a)\n",
    "    minimum_n = a\n",
    "    for i = 0:n\n",
    "        if minimum > A(i+a)\n",
    "            minimum = A(i+a)\n",
    "            minimum_n = i+a\n",
    "        end\n",
    "    end\n",
    "    \n",
    "    return minimum,minimum_n\n",
    "end\n"
   ]
  },
  {
   "cell_type": "code",
   "execution_count": 62,
   "metadata": {},
   "outputs": [
    {
     "data": {
      "text/plain": [
       "(1.484264961220581, 17)"
      ]
     },
     "execution_count": 62,
     "metadata": {},
     "output_type": "execute_result"
    }
   ],
   "source": [
    "#The minimum of the integer values from 1 to 1000 for the average cost\n",
    "#We stop at 1000 since A(x) only increases as x increases\n",
    "Minimum(1,1000)"
   ]
  },
  {
   "cell_type": "markdown",
   "metadata": {},
   "source": [
    "The mininum average cost is at n = 17 with average 1.48 cents"
   ]
  },
  {
   "cell_type": "code",
   "execution_count": 56,
   "metadata": {},
   "outputs": [
    {
     "data": {
      "text/plain": [
       "Maximum (generic function with 1 method)"
      ]
     },
     "execution_count": 56,
     "metadata": {},
     "output_type": "execute_result"
    }
   ],
   "source": [
    "function Maximum(a,b)\n",
    "    n = b-a \n",
    "    maximum = A(a)\n",
    "    maximum_n = a\n",
    "    for i = 0:n\n",
    "        if maximum < A(i+a)\n",
    "            maximum = A(i+a)\n",
    "            maximum_n = i+a\n",
    "        end\n",
    "    end\n",
    "    \n",
    "    return maximum,maximum_n\n",
    "end"
   ]
  },
  {
   "cell_type": "code",
   "execution_count": 60,
   "metadata": {},
   "outputs": [
    {
     "data": {
      "text/plain": [
       "(1.6133734720699433, 35)"
      ]
     },
     "execution_count": 60,
     "metadata": {},
     "output_type": "execute_result"
    }
   ],
   "source": [
    "Maximum(10,35)"
   ]
  },
  {
   "cell_type": "markdown",
   "metadata": {},
   "source": [
    "The maximum average cost between n = 10 and n = 35 is n =35 with the average cost 1.61 cents"
   ]
  },
  {
   "cell_type": "markdown",
   "metadata": {},
   "source": [
    "2(c) and (d) \n",
    "This programs test n values until it finds the first n value that is 10% or 1% away from q = 0.003. It then returns n and the interval of the \n",
    "the "
   ]
  },
  {
   "cell_type": "code",
   "execution_count": 38,
   "metadata": {},
   "outputs": [
    {
     "data": {
      "text/plain": [
       "ntest (generic function with 1 method)"
      ]
     },
     "execution_count": 38,
     "metadata": {},
     "output_type": "execute_result"
    }
   ],
   "source": [
    "function ntest(n, int)\n",
    "    q = 0.003\n",
    "    check = true\n",
    "    i = 0\n",
    "    lower_bound = 100\n",
    "    upper_bound = 100\n",
    "    \n",
    "    while(check)\n",
    "        n = n + 1\n",
    "        i += 1\n",
    "        a = 4*n + n^2\n",
    "        b = -(2*q *n*n + 4*n)\n",
    "        c = (q*n)^2\n",
    "        \n",
    "        determinant = b^2 - (4 * a * c)\n",
    "        \n",
    "        lower_bound = (-b - sqrt(determinant))/(2*a)\n",
    "        upper_bound = (-b + sqrt(determinant))/(2*a)\n",
    "        \n",
    "        if(abs(lower_bound- q ) <int && abs(upper_bound - q) < int)\n",
    "            check = false\n",
    "        end\n",
    "        if (i > 1000000000)\n",
    "            print(\"failed\")\n",
    "            return lower_bound, upper_bound\n",
    "        end \n",
    "    end\n",
    "    return n, lower_bound, upper_bound    \n",
    "end"
   ]
  },
  {
   "cell_type": "code",
   "execution_count": 40,
   "metadata": {},
   "outputs": [
    {
     "name": "stdout",
     "output_type": "stream",
     "text": [
      "(146183, 0.0027271983991336794, 0.003299999641731788)\n",
      "(13425863, 0.002970296145122293, 0.003029999999625752)\n"
     ]
    }
   ],
   "source": [
    "println(ntest(100000,0.0003))\n",
    "println(ntest(10000000,0.00003))"
   ]
  },
  {
   "cell_type": "markdown",
   "metadata": {
    "slideshow": {
     "slide_type": "slide"
    }
   },
   "source": [
    "It takes 146,183 tests to determine the failure rate within 10%\n",
    "It takes 13,425,863 test to determine the failure rate within 1% "
   ]
  }
 ],
 "metadata": {
  "kernelspec": {
   "display_name": "Julia 0.6.2",
   "language": "julia",
   "name": "julia-0.6"
  },
  "language_info": {
   "file_extension": ".jl",
   "mimetype": "application/julia",
   "name": "julia",
   "version": "0.6.2"
  }
 },
 "nbformat": 4,
 "nbformat_minor": 2
}
