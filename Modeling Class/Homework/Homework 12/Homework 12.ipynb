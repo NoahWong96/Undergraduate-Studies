{
 "cells": [
  {
   "cell_type": "markdown",
   "metadata": {
    "slideshow": {
     "slide_type": "subslide"
    }
   },
   "source": [
    "Homework\n",
    "Mathematical Modeling\n",
    "Noah Wong \n",
    "\n",
    "\n",
    "Chapter 8 Problem 8.)"
   ]
  },
  {
   "cell_type": "code",
   "execution_count": 3,
   "metadata": {
    "slideshow": {
     "slide_type": "fragment"
    }
   },
   "outputs": [
    {
     "data": {
      "text/plain": [
       "Pr_forklift (generic function with 1 method)"
      ]
     },
     "execution_count": 3,
     "metadata": {},
     "output_type": "execute_result"
    }
   ],
   "source": [
    "#This function returns the steady state probability that there are n forklifts at the shop\n",
    "function Pr_forklift(n) \n",
    "    if n == 0\n",
    "        return 0.5288\n",
    "    end\n",
    "    if n >27\n",
    "        return 0\n",
    "    else\n",
    "        return (4.5/7.3)*(4.5/14.6)^(n-1) * Pr_forklift(0)\n",
    "    end\n",
    "end"
   ]
  },
  {
   "cell_type": "code",
   "execution_count": 5,
   "metadata": {
    "slideshow": {
     "slide_type": "fragment"
    }
   },
   "outputs": [
    {
     "name": "stdout",
     "output_type": "stream",
     "text": [
      "0.6811520439170512\n"
     ]
    }
   ],
   "source": [
    "#Expected value of forklifts at the shop\n",
    "sum = 0\n",
    "for i in 0:27\n",
    "   sum = sum + (i * Pr_forklift(i))\n",
    "end\n",
    "expected_value = sum\n",
    "println(expected_value)"
   ]
  },
  {
   "cell_type": "code",
   "execution_count": 7,
   "metadata": {},
   "outputs": [
    {
     "name": "stdout",
     "output_type": "stream",
     "text": [
      "0.47119999999999995\n",
      "0.1452273972602739\n"
     ]
    }
   ],
   "source": [
    "#Probablity that first mechanic is busy\n",
    "println(1- Pr_forklift(0))\n",
    "#Probaility that the second mechanic is called in\n",
    "println(1 - Pr_forklift(0) - Pr_forklift(1))"
   ]
  },
  {
   "cell_type": "code",
   "execution_count": 203,
   "metadata": {},
   "outputs": [
    {
     "name": "stdout",
     "output_type": "stream",
     "text": [
      "39.64473218952281\n"
     ]
    }
   ],
   "source": [
    "#This returns the expected cost for backlogging forklifts!\n",
    "sum = 0\n",
    "for i in 2:27\n",
    "    sum = sum + 125/7*i*(0.384)*(0.616)^(i-1)\n",
    "end\n",
    "println(sum)"
   ]
  },
  {
   "cell_type": "markdown",
   "metadata": {},
   "source": [
    "Chapter 9"
   ]
  },
  {
   "cell_type": "code",
   "execution_count": 11,
   "metadata": {},
   "outputs": [
    {
     "data": {
      "text/plain": [
       "false"
      ]
     },
     "execution_count": 11,
     "metadata": {},
     "output_type": "execute_result"
    }
   ],
   "source": [
    "#simulate a coin being flipped by return true half the time and false the other\n",
    "function flip_coin()\n",
    "    a = rand()\n",
    "    if a>= 0.5\n",
    "        return true\n",
    "    else\n",
    "        return false\n",
    "    end\n",
    "end\n",
    "\n",
    "flip_coin()"
   ]
  },
  {
   "cell_type": "code",
   "execution_count": 13,
   "metadata": {},
   "outputs": [
    {
     "data": {
      "text/plain": [
       "false"
      ]
     },
     "execution_count": 13,
     "metadata": {},
     "output_type": "execute_result"
    }
   ],
   "source": [
    "function Game()\n",
    "    Amount = 10\n",
    "    \n",
    "    while Amount > 0 && Amount < 20   \n",
    "        if flip_coin() \n",
    "            Amount = Amount + 1\n",
    "        else\n",
    "            Amount = Amount - 1\n",
    "        end\n",
    "    end\n",
    "    \n",
    "    return Amount == 0\n",
    "end\n",
    "\n",
    "Game()"
   ]
  },
  {
   "cell_type": "code",
   "execution_count": 15,
   "metadata": {},
   "outputs": [
    {
     "data": {
      "text/plain": [
       "0.46"
      ]
     },
     "execution_count": 15,
     "metadata": {},
     "output_type": "execute_result"
    }
   ],
   "source": [
    "function WinPercent(n)\n",
    "    wins = 0\n",
    "    for i in 1:n\n",
    "        if Game()\n",
    "            wins = wins + 1\n",
    "        end\n",
    "    end\n",
    "    \n",
    "    return wins/n\n",
    "end\n",
    "\n",
    "WinPercent(100)"
   ]
  },
  {
   "cell_type": "code",
   "execution_count": 17,
   "metadata": {},
   "outputs": [
    {
     "data": {
      "text/plain": [
       "GameFlips (generic function with 1 method)"
      ]
     },
     "execution_count": 17,
     "metadata": {},
     "output_type": "execute_result"
    }
   ],
   "source": [
    "#Plays a game, but returns the number of flips instead\n",
    "function GameFlips()\n",
    "        Amount = 10\n",
    "        Flips = 0\n",
    "    \n",
    "    while Amount > 0 && Amount < 20 \n",
    "        Flips = Flips + 1\n",
    "        if flip_coin() \n",
    "            Amount = Amount + 1\n",
    "        else\n",
    "            Amount = Amount - 1\n",
    "        end\n",
    "    end\n",
    "    \n",
    "    return Flips\n",
    "end  "
   ]
  },
  {
   "cell_type": "code",
   "execution_count": 19,
   "metadata": {},
   "outputs": [
    {
     "data": {
      "text/plain": [
       "106.12"
      ]
     },
     "execution_count": 19,
     "metadata": {},
     "output_type": "execute_result"
    }
   ],
   "source": [
    "function AverageFlips(n)\n",
    "    total_flips = 0\n",
    "    for i in 1:n\n",
    "        flips = GameFlips()\n",
    "        total_flips = flips + total_flips\n",
    "     end\n",
    "    \n",
    "    return total_flips/n\n",
    "end\n",
    "\n",
    "AverageFlips(100)"
   ]
  },
  {
   "cell_type": "code",
   "execution_count": 27,
   "metadata": {},
   "outputs": [
    {
     "data": {
      "text/plain": [
       "11"
      ]
     },
     "execution_count": 27,
     "metadata": {},
     "output_type": "execute_result"
    }
   ],
   "source": [
    "function flip25Game()\n",
    "    Amount = 10\n",
    "    \n",
    "    for i in 1:25 \n",
    "        if flip_coin() \n",
    "            Amount = Amount + 1\n",
    "        else\n",
    "            Amount = Amount - 1\n",
    "        end\n",
    "    end\n",
    "    \n",
    "    return Amount\n",
    "end\n",
    "flip25Game()"
   ]
  },
  {
   "cell_type": "code",
   "execution_count": 38,
   "metadata": {},
   "outputs": [
    {
     "data": {
      "text/plain": [
       "9.82"
      ]
     },
     "execution_count": 38,
     "metadata": {},
     "output_type": "execute_result"
    }
   ],
   "source": [
    "function average25flips(n)\n",
    "    total_amount = 0\n",
    "    for i in 1:n\n",
    "        amount = flip25Game()\n",
    "        total_amount = amount + total_amount\n",
    "     end\n",
    "    \n",
    "    return total_amount/n\n",
    "end  \n",
    "average25flips(100)"
   ]
  },
  {
   "cell_type": "markdown",
   "metadata": {},
   "source": [
    "Chapter 9 Problem 2!"
   ]
  },
  {
   "cell_type": "code",
   "execution_count": 92,
   "metadata": {},
   "outputs": [
    {
     "data": {
      "text/plain": [
       "roll2die (generic function with 1 method)"
      ]
     },
     "execution_count": 92,
     "metadata": {},
     "output_type": "execute_result"
    }
   ],
   "source": [
    "#Function returns a random number between 1 and 6\n",
    "function rolldice()\n",
    "    a = (abs(rand(Int) % 6 ))+1\n",
    "    return a\n",
    "end\n",
    "\n",
    "#rolls 2 die, so it will return a number between 2 and 12 with the correct distribution\n",
    "function roll2die()\n",
    "    return rolldice() + rolldice()\n",
    "end"
   ]
  },
  {
   "cell_type": "code",
   "execution_count": 194,
   "metadata": {},
   "outputs": [
    {
     "data": {
      "text/plain": [
       "false"
      ]
     },
     "execution_count": 194,
     "metadata": {},
     "output_type": "execute_result"
    }
   ],
   "source": [
    "#Function will return whether a number (sum) is rolled consectutively a certain number of times (rolls) when two die are rolled n times in a row. Returns true if it has happened or false\n",
    "function consectutiverolls(sum, n, rolls)\n",
    "    counter = 0\n",
    "    \n",
    "    for i in 1:n\n",
    "        die = roll2die()\n",
    "        \n",
    "        if die == sum\n",
    "            counter = counter + 1\n",
    "        else\n",
    "            counter = 0\n",
    "        end\n",
    "        \n",
    "        if counter >= rolls\n",
    "            return true\n",
    "        end \n",
    "    end\n",
    "    \n",
    "    return false\n",
    "end\n",
    "\n",
    "consectutiverolls(7,100,5)"
   ]
  },
  {
   "cell_type": "code",
   "execution_count": 197,
   "metadata": {},
   "outputs": [
    {
     "data": {
      "text/plain": [
       "0.012"
      ]
     },
     "execution_count": 197,
     "metadata": {},
     "output_type": "execute_result"
    }
   ],
   "source": [
    "#Returns the approximate probablitity that consectutiverolls will happen\n",
    "function averageconsectutive(sum, n, rolls)\n",
    "    counter = 0\n",
    "    \n",
    "    for i in 1:n\n",
    "        if consectutiverolls(sum,100, rolls)\n",
    "            counter = counter + 1\n",
    "        end\n",
    "    end\n",
    "    \n",
    "    return counter/n\n",
    "end\n",
    "\n",
    "averageconsectutive(7,1000,5)"
   ]
  },
  {
   "cell_type": "code",
   "execution_count": 154,
   "metadata": {},
   "outputs": [
    {
     "data": {
      "text/plain": [
       "4"
      ]
     },
     "execution_count": 154,
     "metadata": {},
     "output_type": "execute_result"
    }
   ],
   "source": [
    "#returns the number of rolls that happen until a certain die sum (sum) is rolled\n",
    "function rollsuntil(sum)\n",
    "    counter = 1\n",
    "    \n",
    "    for i in 1:1000\n",
    "        die = roll2die()\n",
    "        \n",
    "        if die == sum\n",
    "            return counter\n",
    "        else\n",
    "            counter = counter + 1\n",
    "        end\n",
    "    end\n",
    "end\n",
    "rollsuntil(7)"
   ]
  },
  {
   "cell_type": "code",
   "execution_count": 201,
   "metadata": {},
   "outputs": [
    {
     "data": {
      "text/plain": [
       "5.08"
      ]
     },
     "execution_count": 201,
     "metadata": {},
     "output_type": "execute_result"
    }
   ],
   "source": [
    "#Returns the average number of rolls until a certain die sum (sum) is rolled\n",
    "function averagerollsuntil(n,sum)\n",
    "    totalrolls = 0\n",
    "    \n",
    "    for i in 1:n\n",
    "        totalrolls = totalrolls + rollsuntil(sum)\n",
    "    end\n",
    "    \n",
    "    return totalrolls/n\n",
    "end\n",
    "\n",
    "averagerollsuntil(100,7)"
   ]
  }
 ],
 "metadata": {
  "kernelspec": {
   "display_name": "Julia 0.6.2",
   "language": "julia",
   "name": "julia-0.6"
  },
  "language_info": {
   "file_extension": ".jl",
   "mimetype": "application/julia",
   "name": "julia",
   "version": "0.6.2"
  }
 },
 "nbformat": 4,
 "nbformat_minor": 2
}
