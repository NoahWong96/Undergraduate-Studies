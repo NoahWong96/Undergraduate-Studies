{
 "cells": [
  {
   "cell_type": "markdown",
   "metadata": {},
   "source": [
    "## Homework #3 \n",
    "\n",
    "2. Reconsider the pig problem of Example 1.1, but now suppose that the\n",
    "weight of the pig after t days is w = 800=(1 + 3e−t=30) lbs.\n",
    "\n",
    "**Example 1.1**: \"A pig weighing 200 pounds gains 5 pounds per day and costs\n",
    "45 cents a day to keep. The market price for pigs is 65 cents per pound, but is\n",
    "falling 1 cent per day. When should the pig be sold?\"\n",
    "\n",
    "\n",
    " b) Find the optimal time to sell the pig. Use the five-step approach,\n",
    "and model as a one–variable optimization problem.\n"
   ]
  },
  {
   "cell_type": "code",
   "execution_count": 3,
   "metadata": {},
   "outputs": [
    {
     "data": {
      "text/plain": [
       "Newtons (generic function with 1 method)"
      ]
     },
     "execution_count": 3,
     "metadata": {},
     "output_type": "execute_result"
    }
   ],
   "source": [
    "#Newton's method to solve (b)\n",
    "#f is the function we are evalating, df is the derivative of that function\n",
    "#steps is number of iterations, x0 is the starting location\n",
    "function Newtons(f,df, steps, x0)\n",
    "    x = x0\n",
    "    \n",
    "    for i in 1:steps\n",
    "        \n",
    "        x = x - f(x)/df(x)\n",
    "    \n",
    "    end\n",
    "    println(x)\n",
    "    return x\n",
    "end"
   ]
  },
  {
   "cell_type": "markdown",
   "metadata": {},
   "source": [
    "Newton's method is used on the first derivative of the profit function to find the best time to sell.Profit function has one variable, x, the day the pig is sold. It returns the profit of the sale. Below $F(x)$ is the first derivative of the Profit function and $DF(x)$ is the second derivative."
   ]
  },
  {
   "cell_type": "code",
   "execution_count": 4,
   "metadata": {},
   "outputs": [
    {
     "name": "stdout",
     "output_type": "stream",
     "text": [
      "12.334891442632157\n"
     ]
    },
    {
     "data": {
      "text/plain": [
       "12.334891442632157"
      ]
     },
     "execution_count": 4,
     "metadata": {},
     "output_type": "execute_result"
    }
   ],
   "source": [
    "# first derivative of our profit function\n",
    "F(x) = (140*e^(-x/30) - 4*e^(-x/30)*x -40)/(5*(1+3*e^(-x/30))^2) -0.45\n",
    "\n",
    "# second derivative of the profit fuction\n",
    "DF(x) = (90*e^(-x/10) +2*e^(-x/30)*x - 250*e^(-x/30) - 720*e^(-x/15) - 18e^(-x/10)*x)/(75*(3*e^(-x/30)+1)^4)\n",
    "\n",
    "#Use 12 steps which is more than enough\n",
    "Newtons(F,DF, 12,14)"
   ]
  },
  {
   "cell_type": "markdown",
   "metadata": {},
   "source": [
    "We can't sell at a fraction of a day so we round down to 12. The optimal time to sell the pig is day 12."
   ]
  },
  {
   "cell_type": "markdown",
   "metadata": {},
   "source": [
    "**(c)**\n",
    "The parameter 800 represents the eventual mature weight of the pig.\n",
    "Perform a sensitivity analysis for this parameter. Consider both the\n",
    "best time to sell and the profit obtained.\n",
    "\n",
    "we need to write the function with var i in place of 800.\n",
    "\n",
    "Also redo Newton's so the functions can have two inputs"
   ]
  },
  {
   "cell_type": "code",
   "execution_count": 10,
   "metadata": {},
   "outputs": [
    {
     "data": {
      "text/plain": [
       "DDg (generic function with 1 method)"
      ]
     },
     "execution_count": 10,
     "metadata": {},
     "output_type": "execute_result"
    }
   ],
   "source": [
    "g(t,i) = ((0.65 - 0.01*t)*i)/(1+3*e^(-t/30)) - 0.45 *t\n",
    "\n",
    "Dg(t,i) = ((0.035*e^(-t/30) - 0.001*e^(-t/30)*t - 0.01)*i)/((1+3*e^(-t/30))^2) - 0.45\n",
    "\n",
    "DDg(t,i) = ((0.0015*e^(-t/10) + 0.00003*e^(-t/30)*t - 0.012*e^(-t/15) - 0.00417*e^(-t/30) - 0.0003*e^(-t/10)*t)*i)/((1+3*e^(-t/30))^4)\n",
    "\n"
   ]
  },
  {
   "cell_type": "markdown",
   "metadata": {},
   "source": [
    "Newton's method with 2 variables, this allows us to change the value of i (mature weight of pig) while solving for optimal time \n",
    "to sell. So only the value t changes with each iteration"
   ]
  },
  {
   "cell_type": "code",
   "execution_count": 7,
   "metadata": {},
   "outputs": [
    {
     "data": {
      "text/plain": [
       "Newtons_2var (generic function with 1 method)"
      ]
     },
     "execution_count": 7,
     "metadata": {},
     "output_type": "execute_result"
    }
   ],
   "source": [
    "#t0 starting point, i-mature weight of pig\n",
    "function Newtons_2var(f,df,t0, steps, i)\n",
    "    t = t0\n",
    "    u = 0\n",
    "    \n",
    "    for n = 1:steps\n",
    "        u = t\n",
    "        t = t- f(t,i)/df(t,i)\n",
    "        \n",
    "        if u == t\n",
    "            return t\n",
    "        end\n",
    "        \n",
    "    end\n",
    "    \n",
    "    return t\n",
    "end"
   ]
  },
  {
   "cell_type": "markdown",
   "metadata": {},
   "source": [
    "The sensitivity is given by the equation\n",
    "\n",
    "$S(t,i) = dt/di * i/t$\n",
    "\n",
    "This function calculates S(t,i) by approximating the derivative by evaluating the optimal time to sell for two different values of i (mature pig weight), these are given below by t and tt, then finding the change in rate of the optimal time to sell."
   ]
  },
  {
   "cell_type": "code",
   "execution_count": 20,
   "metadata": {},
   "outputs": [
    {
     "data": {
      "text/plain": [
       "sensitivity_wrt_t (generic function with 1 method)"
      ]
     },
     "execution_count": 20,
     "metadata": {},
     "output_type": "execute_result"
    }
   ],
   "source": [
    "#t0- starting point for the two newton's methods, steps- number of steps taken \n",
    "#cc- the difference between the two calculatoins\n",
    "function sensitivity_wrt_t(t0,steps, cc)\n",
    "    #t is the optimal time to sell when i = 800\n",
    "    t = Newtons_2var(Dg,DDg,t0,steps, 800)\n",
    "    \n",
    "    #tt is the optimal time to seel when i = 800 + cc (some small amount)\n",
    "    tt = Newtons_2var(Dg,DDg,t0,steps, 800 + cc)\n",
    "    \n",
    "    #returns the two optimal times (t, tt)\n",
    "    print(t, \"  \", tt)\n",
    "    \n",
    "    #Derivative (dt/di) given by (tt-t)/(cc)\n",
    "    return (tt-t)/(cc) *800/t\n",
    "end"
   ]
  },
  {
   "cell_type": "code",
   "execution_count": 19,
   "metadata": {},
   "outputs": [
    {
     "name": "stdout",
     "output_type": "stream",
     "text": [
      "12.334891442632161  12.334891509385942"
     ]
    },
    {
     "data": {
      "text/plain": [
       "0.4329428044330625"
      ]
     },
     "execution_count": 19,
     "metadata": {},
     "output_type": "execute_result"
    }
   ],
   "source": [
    "sensitivity_wrt_t(12,25,0.00001)"
   ]
  },
  {
   "cell_type": "markdown",
   "metadata": {},
   "source": [
    "The sensitivity of the optimal time to sell is 0.432, this implies that if you increased the mature pig weight (i) by 10% the optimal time to sell would increase by 4.3%"
   ]
  },
  {
   "cell_type": "markdown",
   "metadata": {},
   "source": [
    "Calculates the sensitivity of the Profits based on the mature pig weight in the same fashion"
   ]
  },
  {
   "cell_type": "code",
   "execution_count": 32,
   "metadata": {},
   "outputs": [
    {
     "data": {
      "text/plain": [
       "sensitivity_wrt_P (generic function with 1 method)"
      ]
     },
     "execution_count": 32,
     "metadata": {},
     "output_type": "execute_result"
    }
   ],
   "source": [
    "#Calculates S(P,i)\n",
    "function sensitivity_wrt_P(t0,steps, cc)\n",
    "    #t is the optimal time to sell when i = 800\n",
    "    t = Newtons_2var(Dg,DDg,t0,steps, 800)\n",
    "    \n",
    "    #tt is the optimal time to seel when i = 800 + cc (some small amount)\n",
    "    tt = Newtons_2var(Dg,DDg,t0,steps, 800 + cc)\n",
    "    \n",
    "    print(t, \"  \", tt)\n",
    "    \n",
    "    #g(tt,800+cc) calculates the optimal profit when mature pig weight is 800 + cc (some small amount)\n",
    "    #g(t,800) calculates the optimal profit when mature pig weight is 800 \n",
    "    return (g(tt,800+cc)-g(t,800))/(cc) *800/g(t,800)\n",
    "end"
   ]
  },
  {
   "cell_type": "code",
   "execution_count": 35,
   "metadata": {},
   "outputs": [
    {
     "name": "stdout",
     "output_type": "stream",
     "text": [
      "12.334891442632161  12.334892110169902"
     ]
    },
    {
     "data": {
      "text/plain": [
       "1.040987704090318"
      ]
     },
     "execution_count": 35,
     "metadata": {},
     "output_type": "execute_result"
    }
   ],
   "source": [
    "sensitivity_wrt_P(12,25, 0.0001)"
   ]
  },
  {
   "cell_type": "markdown",
   "metadata": {},
   "source": [
    "The sensitivity of the profit based on mature pig weight is 1.04, this implies that if you increased the mature pig weight (i) by 10% the profit would increase by 10.4%"
   ]
  }
 ],
 "metadata": {
  "kernelspec": {
   "display_name": "Julia 0.6.2",
   "language": "julia",
   "name": "julia-0.6"
  },
  "language_info": {
   "file_extension": ".jl",
   "mimetype": "application/julia",
   "name": "julia",
   "version": "0.6.2"
  }
 },
 "nbformat": 4,
 "nbformat_minor": 2
}
