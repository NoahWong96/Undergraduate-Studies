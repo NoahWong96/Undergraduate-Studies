{
 "cells": [
  {
   "cell_type": "markdown",
   "metadata": {},
   "source": [
    "### Homework 8\n",
    "\n",
    "**Chapter 5**\n",
    "12.) Reconsider the space docking problem of Example 5.2.\n",
    "\n",
    "**Example 5.2**\n",
    "Reconsider the docking problem of Example 4.3, and assume now that it takes $5$ seconds to make the control adjustments, and another $10$ seconds until we can return from other tasks to observe the velocity indicator once again. Under these conditions, will our strategy for matching velocities be successful?\n",
    "\n",
    "**Example 4.3**. Astronauts in training are required to practice a docking maneuver under manual control. As a part of this maneuver, it is required to bring an orbiting spacecraft to rest relative to another orbiting craft. The hand controls provide for variable acceleration and deceleration, and there is a device on board that measures the rate of closing between the two vehicles. The following strategy has been proposed for bringing the craft to rest. First, look at the\n",
    "closing velocity. If it is zero, we are done. Otherwise, remember the closing velocity and look at the acceleration control. Move the acceleration control so that it is opposite to the closing velocity (i.e., if closing velocity is positive, we slow down, and we speed up if it is negative) and proportional in magnitude (i.e., we brake twice as hard if we find ourselves closing twice as fast). After a time, look at the closing velocity again and repeat the procedure. Under what circumstances will this strategy be effective?\n",
    "\n",
    "(From the textbook):\n",
    "\n",
    "Let $v_n$ denote the closing velocity observed at time $t_n$, the time of the nth observation. Let $\\Delta v_n = v_{n+1} - v_n$ denote the change in closing velocity as a result of our adjustments. The time interval divides into two parts: the time it takes to adjust the velocity controls and the time between adjustments and the next observation of the velocity indicator. Write $\\Delta t_n = c_n + w_n$, where $c_n$ is the time to adjust the controls and $w_n$ is the waiting time until the next observation. \n",
    "\n",
    "Let $a_n$ denote the acceleration setting after the nth adjustment. Elementary physics yields $\\Delta v_n = a_{n-1}c_n + a_n w_n.$ The control law says to set acceleration proportional to $(-v_n)$; hence $a_n = -kv_n$. These results are summarized below.\n",
    "\n",
    "$$t_{n+1} = t_n + c_n + w_n$$\n",
    "$$v_{n+1} = v_n + a_{n−1}c_n + a_nw_n$$\n",
    "$$a_n = −kv_n$$\n",
    "$$c_n > 0$$\n",
    "$$w_n ≥ 0$$\n",
    "\n"
   ]
  },
  {
   "cell_type": "markdown",
   "metadata": {},
   "source": [
    "(b) Find the eigenvectors associated with the eigenvalues\n",
    "$$\\lambda = \\frac{4 \\pm \\sqrt{6}}{10}$$\n",
    "\n",
    "that were calculated in the text?\n",
    "\n",
    "\n",
    "   Start by defining all the important variables for calculating acceleration velocity and our matrix $F$. We let\n",
    "   \n",
    "   $$x_1(n) = v_n \\, \\, \\, \\text{and} \\, \\, \\, x_2(n) = v_{n-1}.$$\n",
    "   \n",
    "So a successful docking procedure involves $F(x_1, x_2) \\rightarrow (0,0)$. From $F$ we derive our matrix as the coefficents of $G = x + F(x)$ so $g_1(x_1, x_2) = 0.8x_1 - 0.1x_2$ and $g_2(x_1, x_2) = x_1$. This gives us the matrix \n",
    "\n",
    "$$ A = \n",
    "\\left(\\begin{array}{cc} \n",
    "0.8 & -0.1\\\\ \n",
    "1 & 0\n",
    "\\end{array}\\right). $$\n",
    "\n",
    "The textbook already calculated the eigenvalues of this matrix as \n",
    "$$\\lambda_{1,2} = \\frac{4 \\pm \\sqrt{6}}{10}.$$\n",
    "\n",
    "We calculate the eigenvectors by solving the system of equations that arise from $Av_1 = \\lambda_1 v_1$ and $Av_2 = \\lambda_2 v_2$ where $v_1,v_2$ are the eigenvectors associated with $\\lambda_1$ and $\\lambda_2$ respectively. So the sake of brevity I omit the steps to find the vectors, they come out to be\n",
    "\n",
    "$$v_1 = \n",
    "\\left(\\begin{array}{cc}\n",
    "\\lambda_1 \\\\\n",
    "1\n",
    "\\end{array}\\right).$$\n",
    "\n",
    "$$v_2 = \n",
    "\\left(\\begin{array}{cc}\n",
    "\\lambda_2 \\\\\n",
    "1\n",
    "\\end{array}\\right).$$\n",
    "\n",
    "\n",
    "We will also define the eigenvectors here are *eigenvector_1* and *eigenvector_2*"
   ]
  },
  {
   "cell_type": "code",
   "execution_count": 10,
   "metadata": {},
   "outputs": [
    {
     "data": {
      "text/plain": [
       "(0.15505102572168222, 1)"
      ]
     },
     "execution_count": 10,
     "metadata": {},
     "output_type": "execute_result"
    }
   ],
   "source": [
    "#function for calculating the acceleration \n",
    "acceleration(velocity) = -0.02 * velocity\n",
    "\n",
    "#acc_0 and acc_1 are the current (acc_1) and the previous (acc_0) accelerations\n",
    "velocity(velocity_0,acc_0,acc_1) = velocity_0 + 5*acc_0 + 10*acc_1\n",
    "\n",
    "#\n",
    "F(x1,x2) = [-0.02*10*x1 - 0.02*5*x2, x1-x2]\n",
    "\n",
    "#Two eigenvalues\n",
    "λ₁= (4 + sqrt(6))/10\n",
    "λ₂= (4 - sqrt(6))/10\n",
    "\n",
    "#Two eigenvectors\n",
    "eigenvector_1 = (λ₁,1)\n",
    "eigenvector_2 = (λ₂,1)"
   ]
  },
  {
   "cell_type": "markdown",
   "metadata": {},
   "source": [
    "**(c)** Calculate the rate at which closing velocity decreases (% per minute)\n",
    "if we start at an eigenvector.\n",
    "\n",
    "We are using the same model from HW6 that calculates the velocity as the docking procedure occurs."
   ]
  },
  {
   "cell_type": "code",
   "execution_count": 7,
   "metadata": {},
   "outputs": [
    {
     "data": {
      "text/plain": [
       "spacemodel (generic function with 1 method)"
      ]
     },
     "execution_count": 7,
     "metadata": {},
     "output_type": "execute_result"
    }
   ],
   "source": [
    "#x and y are the initial velocities of the past two steps\n",
    "function spacemodel(x,y)\n",
    "    #initialize the arrays that hold the \n",
    "    x1 = zeros(100,1)\n",
    "    x2 = zeros(100,1)\n",
    "    \n",
    "    #sets two initial values\n",
    "    x1[1] = x\n",
    "    x2[1] = y\n",
    "    \n",
    "    println(\"Velocity of Spaceship at time 0: ( \",x,\" )\")\n",
    "    \n",
    "    #only interate 4 times since each time is 15 seconds\n",
    "    for j in 1:4\n",
    "        x,y = F(x1[j],x2[j])\n",
    "        \n",
    "        x = x + x1[j]\n",
    "        y = y + x2[j]\n",
    "        \n",
    "        x1[j+1] = x\n",
    "        x2[j+1] = y\n",
    "        println(\"Velocity of Spaceship at time \", j,\": ( \",x,\" )\")\n",
    "    end\n",
    "end"
   ]
  },
  {
   "cell_type": "code",
   "execution_count": 12,
   "metadata": {},
   "outputs": [
    {
     "name": "stdout",
     "output_type": "stream",
     "text": [
      "Velocity of Spaceship at time 0: ( 0.6449489742783178 )\n",
      "Velocity of Spaceship at time 1: ( 0.4159591794226542 )\n",
      "Velocity of Spaceship at time 2: ( 0.26827244611029155 )\n",
      "Velocity of Spaceship at time 3: ( 0.17302203894596782 )\n",
      "Velocity of Spaceship at time 4: ( 0.1115903865457451 )\n"
     ]
    }
   ],
   "source": [
    "spacemodel(eigenvector_1[1], eigenvector_1[2])"
   ]
  },
  {
   "cell_type": "code",
   "execution_count": 14,
   "metadata": {},
   "outputs": [
    {
     "name": "stdout",
     "output_type": "stream",
     "text": [
      "Velocity of Spaceship at time 0: ( 0.15505102572168222 )\n",
      "Velocity of Spaceship at time 1: ( 0.024040820577345773 )\n",
      "Velocity of Spaceship at time 2: ( 0.0037275538897083987 )\n",
      "Velocity of Spaceship at time 3: ( 0.0005779610540321413 )\n",
      "Velocity of Spaceship at time 4: ( 8.961345425487308e-5 )\n"
     ]
    }
   ],
   "source": [
    "spacemodel(eigenvector_2[1], eigenvector_2[2])"
   ]
  },
  {
   "cell_type": "markdown",
   "metadata": {},
   "source": [
    "Calculating the velocity decrease at eigenvector_1 we have \n",
    "\n",
    "$$\\frac{0.6449 - 0.1116}{0.6449} = 83\\%.$$\n",
    "\n",
    "Velocity decrease at eigenvector_2 we have \n",
    "\n",
    "$$\\frac{0.1551 - (8.961 * 10^{-5})}{0.1551} = 99\\%.$$\n",
    "\n",
    "This implies that the modl congerves much quicker along the second eigenvector."
   ]
  }
 ],
 "metadata": {
  "kernelspec": {
   "display_name": "Julia 0.6.2",
   "language": "julia",
   "name": "julia-0.6"
  },
  "language_info": {
   "file_extension": ".jl",
   "mimetype": "application/julia",
   "name": "julia",
   "version": "0.6.2"
  }
 },
 "nbformat": 4,
 "nbformat_minor": 2
}
