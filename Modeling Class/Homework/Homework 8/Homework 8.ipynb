{
 "cells": [
  {
   "cell_type": "code",
   "execution_count": 7,
   "metadata": {},
   "outputs": [
    {
     "data": {
      "text/plain": [
       "0.15505102572168222"
      ]
     },
     "execution_count": 7,
     "metadata": {},
     "output_type": "execute_result"
    }
   ],
   "source": [
    "a(x) = -0.02 * x\n",
    "v(v0,a0,a1) = v0 + 5*a0 + 10*a1\n",
    "F(x1,x2) = [-0.02*10*x1 - 0.02*5*x2, x1-x2]\n",
    "λ₁= (4 + sqrt(6))/10\n",
    "λ₂= (4 - sqrt(6))/10"
   ]
  },
  {
   "cell_type": "code",
   "execution_count": 5,
   "metadata": {},
   "outputs": [
    {
     "data": {
      "text/plain": [
       "spacemodel (generic function with 1 method)"
      ]
     },
     "execution_count": 5,
     "metadata": {},
     "output_type": "execute_result"
    }
   ],
   "source": [
    "function spacemodel(x,y)\n",
    "    x1 = zeros(100,1)\n",
    "    x2 = zeros(100,1)\n",
    "    \n",
    "    \n",
    "    x1[1] = x\n",
    "    x2[1] = y\n",
    "    \n",
    "    for j in 1:4\n",
    "        x,y = F(x1[j],x2[j])\n",
    "        \n",
    "        x = x + x1[j]\n",
    "        y = y + x2[j]\n",
    "        \n",
    "        x1[j+1] = x\n",
    "        x2[j+1] = y\n",
    "        println(\"Position of spaceship: ( \",x, \", \", y, \" )\")\n",
    "    end\n",
    "end"
   ]
  },
  {
   "cell_type": "code",
   "execution_count": 8,
   "metadata": {},
   "outputs": [
    {
     "name": "stdout",
     "output_type": "stream",
     "text": [
      "Position of spaceship: ( 0.4159591794226542, 0.6449489742783178 )\n",
      "Position of spaceship: ( 0.26827244611029155, 0.4159591794226542 )\n",
      "Position of spaceship: ( 0.17302203894596782, 0.26827244611029155 )\n",
      "Position of spaceship: ( 0.1115903865457451, 0.17302203894596782 )\n"
     ]
    }
   ],
   "source": [
    "spacemodel(λ₁,1)"
   ]
  },
  {
   "cell_type": "code",
   "execution_count": 9,
   "metadata": {},
   "outputs": [
    {
     "name": "stdout",
     "output_type": "stream",
     "text": [
      "Position of spaceship: ( 0.024040820577345773, 0.15505102572168217 )\n",
      "Position of spaceship: ( 0.0037275538897083987, 0.024040820577345773 )\n",
      "Position of spaceship: ( 0.0005779610540321413, 0.0037275538897083987 )\n",
      "Position of spaceship: ( 8.961345425487308e-5, 0.0005779610540321413 )\n"
     ]
    }
   ],
   "source": [
    "spacemodel(λ₂,1)"
   ]
  },
  {
   "cell_type": "code",
   "execution_count": 11,
   "metadata": {},
   "outputs": [
    {
     "name": "stdout",
     "output_type": "stream",
     "text": [
      "Position of spaceship: ( 0.31999999999999995, 0.5 )\n",
      "Position of spaceship: ( 0.20599999999999996, 0.31999999999999995 )\n",
      "Position of spaceship: ( 0.13279999999999997, 0.20599999999999996 )\n",
      "Position of spaceship: ( 0.08563999999999998, 0.13279999999999997 )\n"
     ]
    }
   ],
   "source": [
    "spacemodel(0.5,0.8)"
   ]
  }
 ],
 "metadata": {
  "kernelspec": {
   "display_name": "Julia 0.6.2",
   "language": "julia",
   "name": "julia-0.6"
  },
  "language_info": {
   "file_extension": ".jl",
   "mimetype": "application/julia",
   "name": "julia",
   "version": "0.6.2"
  }
 },
 "nbformat": 4,
 "nbformat_minor": 2
}
