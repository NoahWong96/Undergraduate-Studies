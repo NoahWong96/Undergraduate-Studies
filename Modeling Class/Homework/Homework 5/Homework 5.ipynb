{
 "cells": [
  {
   "cell_type": "markdown",
   "metadata": {},
   "source": [
    "Homework 5\n",
    "\n",
    "Mathematical Modeling\n",
    "\n",
    "Noah Wong- 5057635"
   ]
  },
  {
   "cell_type": "code",
   "execution_count": 3,
   "metadata": {},
   "outputs": [
    {
     "data": {
      "text/plain": [
       "F (generic function with 1 method)"
      ]
     },
     "execution_count": 3,
     "metadata": {},
     "output_type": "execute_result"
    }
   ],
   "source": [
    "#Function used, acceleration change, velocity and function f\n",
    "a(x) = -0.02 * x\n",
    "v(v0,a0,a1) = v0 + 5*a0 + 10*a1\n",
    "F(x1,x2) = [-0.02*10*x1 - 0.02*5*x2, x1-x2]"
   ]
  },
  {
   "cell_type": "code",
   "execution_count": 4,
   "metadata": {},
   "outputs": [
    {
     "data": {
      "text/plain": [
       "spacemodelvelocity (generic function with 1 method)"
      ]
     },
     "execution_count": 4,
     "metadata": {},
     "output_type": "execute_result"
    }
   ],
   "source": [
    "#This function returns the velocities using c = 5, w = 10 and k = 0.02\n",
    "function spacemodelvelocity(v0,precision)\n",
    "    V = zeros(100,1)\n",
    "    A = zeros(100,1)\n",
    "    V[1] = v0\n",
    "    A[1] = a(v0)\n",
    "    V[2] = v(V[1],0,A[1])\n",
    "    A[2] = a(V[2])\n",
    "    \n",
    "    println(\"velocity at step \", 1, \" is \", V[1])\n",
    "    println(\"velocity at step \", 2, \" is \", V[2])\n",
    "    \n",
    "    for i in 3:100\n",
    "        V[i] = v(V[i-1],A[i-2],A[i-1])\n",
    "        A[i] = a(V[i])\n",
    "        \n",
    "              \n",
    "        println(\"velocity at step \", i, \" is \", V[i])\n",
    "        \n",
    "         if(precision > abs(V[i]))\n",
    "            return\n",
    "        end\n",
    "    end\n",
    "end"
   ]
  },
  {
   "cell_type": "code",
   "execution_count": 5,
   "metadata": {},
   "outputs": [
    {
     "name": "stdout",
     "output_type": "stream",
     "text": [
      "velocity at step 1 is 50.0\n",
      "velocity at step 2 is 40.0\n",
      "velocity at step 3 is 27.0\n",
      "velocity at step 4 is 17.6\n",
      "velocity at step 5 is 11.380000000000003\n",
      "velocity at step 6 is 7.344000000000002\n",
      "velocity at step 7 is 4.737200000000001\n",
      "velocity at step 8 is 3.055360000000001\n",
      "velocity at step 9 is 1.9705680000000008\n",
      "velocity at step 10 is 1.2709184000000004\n",
      "velocity at step 11 is 0.8196779200000002\n",
      "velocity at step 12 is 0.528650496\n",
      "velocity at step 13 is 0.3409526048\n",
      "velocity at step 14 is 0.21989703424\n",
      "velocity at step 15 is 0.141822366912\n",
      "velocity at step 16 is 0.0914681901056\n",
      "velocity at step 17 is 0.05899231539328\n",
      "velocity at step 18 is 0.038047033304064\n",
      "velocity at step 19 is 0.0245383951039232\n",
      "velocity at step 20 is 0.015826012752732162\n",
      "velocity at step 21 is 0.01020697069179341\n",
      "velocity at step 22 is 0.006582975278161511\n",
      "velocity at step 23 is 0.004245683153349868\n",
      "velocity at step 24 is 0.0027382489948637426\n",
      "velocity at step 25 is 0.0017660308805560075\n",
      "velocity at step 26 is 0.0011389998049584316\n",
      "velocity at step 27 is 0.0007345967559111446\n"
     ]
    }
   ],
   "source": [
    "#Initial speed is 50, precision measures how close we get to zero before stopping the program\n",
    "spacemodelvelocity(50, 0.001)"
   ]
  },
  {
   "cell_type": "code",
   "execution_count": 6,
   "metadata": {},
   "outputs": [
    {
     "data": {
      "text/plain": [
       "spacemodel (generic function with 1 method)"
      ]
     },
     "execution_count": 6,
     "metadata": {},
     "output_type": "execute_result"
    }
   ],
   "source": [
    "#This function \n",
    "function spacemodel(x,y)\n",
    "    x1 = zeros(100,1)\n",
    "    x2 = zeros(100,1)\n",
    "    \n",
    "    \n",
    "    x1[1] = x\n",
    "    x2[1] = y\n",
    "    \n",
    "    for j in 1:15\n",
    "        x,y = F(x1[j],x2[j])\n",
    "        \n",
    "        x = x + x1[j]\n",
    "        y = y + x2[j]\n",
    "        \n",
    "        x1[j+1] = x\n",
    "        x2[j+1] = y\n",
    "        println(\"Position of spaceship: ( \",x, \", \", y, \" )\")\n",
    "    end\n",
    "end"
   ]
  },
  {
   "cell_type": "code",
   "execution_count": 8,
   "metadata": {},
   "outputs": [
    {
     "name": "stdout",
     "output_type": "stream",
     "text": [
      "Position of spaceship: ( -0.1, 0.0 )\n",
      "Position of spaceship: ( -0.08, -0.1 )\n",
      "Position of spaceship: ( -0.054, -0.08 )\n",
      "Position of spaceship: ( -0.035199999999999995, -0.054 )\n",
      "Position of spaceship: ( -0.022759999999999996, -0.035199999999999995 )\n",
      "Position of spaceship: ( -0.014687999999999996, -0.022759999999999996 )\n",
      "Position of spaceship: ( -0.009474399999999997, -0.014687999999999996 )\n",
      "Position of spaceship: ( -0.006110719999999998, -0.009474399999999997 )\n",
      "Position of spaceship: ( -0.003941135999999999, -0.006110719999999998 )\n",
      "Position of spaceship: ( -0.002541836799999999, -0.003941135999999999 )\n",
      "Position of spaceship: ( -0.0016393558399999994, -0.002541836799999999 )\n",
      "Position of spaceship: ( -0.0010573009919999997, -0.0016393558399999994 )\n",
      "Position of spaceship: ( -0.0006819052095999998, -0.0010573009919999997 )\n",
      "Position of spaceship: ( -0.00043979406847999985, -0.0006819052095999998 )\n",
      "Position of spaceship: ( -0.0002836447338239999, -0.00043979406847999985 )\n"
     ]
    }
   ],
   "source": [
    "spacemodel(0,1)"
   ]
  },
  {
   "cell_type": "code",
   "execution_count": 9,
   "metadata": {},
   "outputs": [
    {
     "name": "stdout",
     "output_type": "stream",
     "text": [
      "Position of spaceship: ( 0.8, 1.0 )\n",
      "Position of spaceship: ( 0.54, 0.8 )\n",
      "Position of spaceship: ( 0.352, 0.54 )\n",
      "Position of spaceship: ( 0.22759999999999997, 0.352 )\n",
      "Position of spaceship: ( 0.14687999999999996, 0.22759999999999997 )\n",
      "Position of spaceship: ( 0.09474399999999997, 0.14687999999999996 )\n",
      "Position of spaceship: ( 0.06110719999999997, 0.09474399999999997 )\n",
      "Position of spaceship: ( 0.03941135999999998, 0.06110719999999997 )\n",
      "Position of spaceship: ( 0.025418367999999986, 0.03941135999999998 )\n",
      "Position of spaceship: ( 0.01639355839999999, 0.025418367999999986 )\n",
      "Position of spaceship: ( 0.010573009919999994, 0.01639355839999999 )\n",
      "Position of spaceship: ( 0.006819052095999996, 0.010573009919999994 )\n",
      "Position of spaceship: ( 0.0043979406847999974, 0.006819052095999996 )\n",
      "Position of spaceship: ( 0.0028364473382399983, 0.0043979406847999974 )\n",
      "Position of spaceship: ( 0.0018293638021119989, 0.0028364473382399983 )\n"
     ]
    }
   ],
   "source": [
    "spacemodel(1,0)"
   ]
  }
 ],
 "metadata": {
  "kernelspec": {
   "display_name": "Julia 0.6.2",
   "language": "julia",
   "name": "julia-0.6"
  },
  "language_info": {
   "file_extension": ".jl",
   "mimetype": "application/julia",
   "name": "julia",
   "version": "0.6.2"
  }
 },
 "nbformat": 4,
 "nbformat_minor": 2
}
