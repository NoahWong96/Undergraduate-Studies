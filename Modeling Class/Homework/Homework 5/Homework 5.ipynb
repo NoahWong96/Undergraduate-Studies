{
 "cells": [
  {
   "cell_type": "markdown",
   "metadata": {},
   "source": [
    "### Homework 5\n",
    "\n",
    "**Chapter 4**\n",
    "\n",
    "11.) Reconsider the docking problem of Example 4.3, and now assume that $c = 5 \\, sec$, $w = 10 \\, sec$, and $k = 0.02$.\n",
    "\n",
    "**Example 4.3**. Astronauts in training are required to practice a docking maneuver under manual control. As a part of this maneuver, it is required to bring an orbiting spacecraft to rest relative to another orbiting craft. The hand controls provide for variable acceleration and deceleration, and there is a device on board that measures the rate of closing between the two vehicles. The following strategy has been proposed for bringing the craft to rest. First, look at the\n",
    "closing velocity. If it is zero, we are done. Otherwise, remember the closing velocity and look at the acceleration control. Move the acceleration control so that it is opposite to the closing velocity (i.e., if closing velocity is positive, we slow down, and we speed up if it is negative) and proportional in magnitude (i.e., we brake twice as hard if we find ourselves closing twice as fast). After a time, look at the closing velocity again and repeat the procedure. Under what circumstances will this strategy be effective?\n",
    "\n",
    "(From the textbook):\n",
    "\n",
    "Let $v_n$ denote the closing velocity observed at time $t_n$, the time of the nth observation. Let $\\Delta v_n = v_{n+1} - v_n$ denote the change in closing velocity as a result of our adjustments. The time interval divides into two parts: the time it takes to adjust the velocity controls and the time between adjustments and the next observation of the velocity indicator. Write $\\Delta t_n = c_n + w_n$, where $c_n$ is the time to adjust the controls and $w_n$ is the waiting time until the next observation. \n",
    "\n",
    "Let $a_n$ denote the acceleration setting after the nth adjustment. Elementary physics yields $\\Delta v_n = a_{n-1}c_n + a_n w_n.$ The control law says to set acceleration proportional to $(-v_n)$; hence $a_n = -kv_n$. These results are summarized below.\n",
    "\n",
    "$$t_{n+1} = t_n + c_n + w_n$$\n",
    "$$v_{n+1} = v_n + a_{n−1}c_n + a_nw_n$$\n",
    "$$a_n = −kv_n$$\n",
    "$$c_n > 0$$\n",
    "$$w_n ≥ 0$$\n"
   ]
  },
  {
   "cell_type": "markdown",
   "metadata": {},
   "source": [
    "\n",
    "**(a)** Assuming an initial closing velocity of $50 m/sec$, calculate the sequence\n",
    "of velocity observations $v_0$, $v_1$, $v_2$, ... , predicted by the model.\n",
    "Is the docking procedure successful?\n",
    "\n",
    "We start this problem by defining our functions of acceleration and velocity from the template above with $c, \\, w, \\,$ and $\\, k$ coefficients added. As well as the function $F$ which will be used for location of the space craft. From the textbook we define $F$ as \n",
    "\n",
    "$$\\Delta x_1 = -kwx_1 - kcx_2$$\n",
    "$$\\Delta x_2 = x_1 - x_2$$\n",
    "\n",
    "Here we set $k = 0.02$, $w = 10$ and $c = 5$"
   ]
  },
  {
   "cell_type": "code",
   "execution_count": 1,
   "metadata": {},
   "outputs": [
    {
     "data": {
      "text/plain": [
       "F (generic function with 1 method)"
      ]
     },
     "execution_count": 1,
     "metadata": {},
     "output_type": "execute_result"
    }
   ],
   "source": [
    "#Function used, acceleration change, velocity and function f\n",
    "a(x) = -0.02 * x\n",
    "v(v0,a0,a1) = v0 + 5*a0 + 10*a1\n",
    "F(x1,x2) = [-0.02*10*x1 - 0.02*5*x2, x1-x2]"
   ]
  },
  {
   "cell_type": "markdown",
   "metadata": {},
   "source": [
    "The function $spacemodelvelocity$ is a discrete model of the velocity of the spacecraft as it docks, for a succesful dock we need the velocity to converge to zero. As the spacecraft gets closer to the dock it should slow down. The function takes two values as input, the initial velocity, $v0$ and the precision. The precision is how close the velocity must get to zero to end the function. At every step the fuction will print out the velocity of the space craft. "
   ]
  },
  {
   "cell_type": "code",
   "execution_count": 3,
   "metadata": {},
   "outputs": [
    {
     "data": {
      "text/plain": [
       "spacemodelvelocity (generic function with 1 method)"
      ]
     },
     "execution_count": 3,
     "metadata": {},
     "output_type": "execute_result"
    }
   ],
   "source": [
    "#This function returns the velocities using c = 5, w = 10 and k = 0.02\n",
    "function spacemodelvelocity(v0,precision)\n",
    "    #initializes two arrays that will carry the \n",
    "    #acceleration and velocity at each interation\n",
    "    V = zeros(100,1)\n",
    "    A = zeros(100,1)\n",
    "    \n",
    "    #Set the initial values for velocity (v₀, v₁) and accelearation (a₀,a₁)\n",
    "    V[1] = v0\n",
    "    A[1] = a(v0)\n",
    "    V[2] = v(V[1],0,A[1])\n",
    "    A[2] = a(V[2])\n",
    "    \n",
    "    #prints velocity for the first two steps\n",
    "    println(\"velocity at step \", 1, \" is \", V[1])\n",
    "    println(\"velocity at step \", 2, \" is \", V[2])\n",
    "    \n",
    "    #calculates the acceleration and velocity for subsequent \n",
    "    #steps until precision is reached\n",
    "    for i in 3:100\n",
    "        V[i] = v(V[i-1],A[i-2],A[i-1])\n",
    "        A[i] = a(V[i])\n",
    "        \n",
    "        #prints velocity for each step    \n",
    "        println(\"velocity at step \", i, \" is \", V[i])\n",
    "        \n",
    "        #if our velocity is less than the precision we exit the loop\n",
    "        if(precision > abs(V[i]))\n",
    "            return\n",
    "        end\n",
    "    end\n",
    "end"
   ]
  },
  {
   "cell_type": "markdown",
   "metadata": {},
   "source": [
    "From problem 11(a), we need to see if an initial velocity of $50 m/sec$ will result in a successful docking procedure. We define successful as the velocity converging to zero as the space craft slows down to dock. We set the precision to $0.001$ and we can see below that the velocity converges to zero. Therefore we have modeled a successful docking procedure."
   ]
  },
  {
   "cell_type": "code",
   "execution_count": 4,
   "metadata": {},
   "outputs": [
    {
     "name": "stdout",
     "output_type": "stream",
     "text": [
      "velocity at step 1 is 50.0\n",
      "velocity at step 2 is 40.0\n",
      "velocity at step 3 is 27.0\n",
      "velocity at step 4 is 17.6\n",
      "velocity at step 5 is 11.380000000000003\n",
      "velocity at step 6 is 7.344000000000002\n",
      "velocity at step 7 is 4.737200000000001\n",
      "velocity at step 8 is 3.055360000000001\n",
      "velocity at step 9 is 1.9705680000000008\n",
      "velocity at step 10 is 1.2709184000000004\n",
      "velocity at step 11 is 0.8196779200000002\n",
      "velocity at step 12 is 0.528650496\n",
      "velocity at step 13 is 0.3409526048\n",
      "velocity at step 14 is 0.21989703424\n",
      "velocity at step 15 is 0.141822366912\n",
      "velocity at step 16 is 0.0914681901056\n",
      "velocity at step 17 is 0.05899231539328\n",
      "velocity at step 18 is 0.038047033304064\n",
      "velocity at step 19 is 0.0245383951039232\n",
      "velocity at step 20 is 0.015826012752732162\n",
      "velocity at step 21 is 0.01020697069179341\n",
      "velocity at step 22 is 0.006582975278161511\n",
      "velocity at step 23 is 0.004245683153349868\n",
      "velocity at step 24 is 0.0027382489948637426\n",
      "velocity at step 25 is 0.0017660308805560075\n",
      "velocity at step 26 is 0.0011389998049584316\n",
      "velocity at step 27 is 0.0007345967559111446\n"
     ]
    }
   ],
   "source": [
    "#Initial speed is 50, precision is 0.001\n",
    "spacemodelvelocity(50, 0.001)"
   ]
  },
  {
   "cell_type": "markdown",
   "metadata": {},
   "source": [
    "**11(b)** An easier way to compute the solution in part (a) is to use the iteration function $G(x) = x + F(x)$, with the property that $x(n + 1) =\n",
    "G(x(n)).$\n",
    "\n",
    "Here we set up another function *spacemodel* that models the location of the space craft as it is docking. We image that $(0,0)$ is the docking station so a successful docking procedure will have the location of the spacecraft converge to $(0,0)$. The function has input values $x$ and $y$ which denote the starting location of the ship."
   ]
  },
  {
   "cell_type": "code",
   "execution_count": 5,
   "metadata": {},
   "outputs": [
    {
     "data": {
      "text/plain": [
       "spacemodel (generic function with 1 method)"
      ]
     },
     "execution_count": 5,
     "metadata": {},
     "output_type": "execute_result"
    }
   ],
   "source": [
    "#This function returns the location of the space craft as it attempts to dock\n",
    "function spacemodel(x,y)\n",
    "    #intialize arrays\n",
    "    x1 = zeros(100,1)\n",
    "    x2 = zeros(100,1)\n",
    "    \n",
    "    #initial locations\n",
    "    x1[1] = x\n",
    "    x2[1] = y\n",
    "    \n",
    "    println(\"Position of spaceship: ( \",x, \", \", y, \" )\")\n",
    "    \n",
    "    #runs the iterations of the docking sequence 15 times\n",
    "    for j in 1:15\n",
    "        #function F gives us the change in x-coordinate and y-coordinate\n",
    "        x,y = F(x1[j],x2[j])\n",
    "        \n",
    "        #calculates the new location of space craft\n",
    "        x = x + x1[j]\n",
    "        y = y + x2[j]\n",
    "        \n",
    "        #updates array with location at step j + 1\n",
    "        x1[j+1] = x\n",
    "        x2[j+1] = y\n",
    "        \n",
    "        println(\"Position of spaceship: ( \",x, \", \", y, \" )\")\n",
    "    end\n",
    "end"
   ]
  },
  {
   "cell_type": "markdown",
   "metadata": {},
   "source": [
    "**11(c)** Calculate the solution $x(1), x(2), x(3), \\dots,$ starting at $x(0) = (1, 0).$ Repeat, starting at $x(0) = (0, 1).$ What happens as $n → \\infty$? What does this imply about the stability of the equilibrium $(0, 0)$?"
   ]
  },
  {
   "cell_type": "code",
   "execution_count": 6,
   "metadata": {},
   "outputs": [
    {
     "name": "stdout",
     "output_type": "stream",
     "text": [
      "Position of spaceship: ( 0, 1 )\n",
      "Position of spaceship: ( -0.1, 0.0 )\n",
      "Position of spaceship: ( -0.08, -0.1 )\n",
      "Position of spaceship: ( -0.054, -0.08 )\n",
      "Position of spaceship: ( -0.035199999999999995, -0.054 )\n",
      "Position of spaceship: ( -0.022759999999999996, -0.035199999999999995 )\n",
      "Position of spaceship: ( -0.014687999999999996, -0.022759999999999996 )\n",
      "Position of spaceship: ( -0.009474399999999997, -0.014687999999999996 )\n",
      "Position of spaceship: ( -0.006110719999999998, -0.009474399999999997 )\n",
      "Position of spaceship: ( -0.003941135999999999, -0.006110719999999998 )\n",
      "Position of spaceship: ( -0.002541836799999999, -0.003941135999999999 )\n",
      "Position of spaceship: ( -0.0016393558399999994, -0.002541836799999999 )\n",
      "Position of spaceship: ( -0.0010573009919999997, -0.0016393558399999994 )\n",
      "Position of spaceship: ( -0.0006819052095999998, -0.0010573009919999997 )\n",
      "Position of spaceship: ( -0.00043979406847999985, -0.0006819052095999998 )\n",
      "Position of spaceship: ( -0.0002836447338239999, -0.00043979406847999985 )\n"
     ]
    }
   ],
   "source": [
    "spacemodel(0,1)"
   ]
  },
  {
   "cell_type": "code",
   "execution_count": 7,
   "metadata": {},
   "outputs": [
    {
     "name": "stdout",
     "output_type": "stream",
     "text": [
      "Position of spaceship: ( 1, 0 )\n",
      "Position of spaceship: ( 0.8, 1.0 )\n",
      "Position of spaceship: ( 0.54, 0.8 )\n",
      "Position of spaceship: ( 0.352, 0.54 )\n",
      "Position of spaceship: ( 0.22759999999999997, 0.352 )\n",
      "Position of spaceship: ( 0.14687999999999996, 0.22759999999999997 )\n",
      "Position of spaceship: ( 0.09474399999999997, 0.14687999999999996 )\n",
      "Position of spaceship: ( 0.06110719999999997, 0.09474399999999997 )\n",
      "Position of spaceship: ( 0.03941135999999998, 0.06110719999999997 )\n",
      "Position of spaceship: ( 0.025418367999999986, 0.03941135999999998 )\n",
      "Position of spaceship: ( 0.01639355839999999, 0.025418367999999986 )\n",
      "Position of spaceship: ( 0.010573009919999994, 0.01639355839999999 )\n",
      "Position of spaceship: ( 0.006819052095999996, 0.010573009919999994 )\n",
      "Position of spaceship: ( 0.0043979406847999974, 0.006819052095999996 )\n",
      "Position of spaceship: ( 0.0028364473382399983, 0.0043979406847999974 )\n",
      "Position of spaceship: ( 0.0018293638021119989, 0.0028364473382399983 )\n"
     ]
    }
   ],
   "source": [
    "spacemodel(1,0)"
   ]
  },
  {
   "cell_type": "markdown",
   "metadata": {},
   "source": [
    "Here we can see that from both $(1,0)$ and $(0,1)$ the space craft's location converges to the origin or the docking location. From this we can assume that the space craft docks correctly from both locations. This also shows that the location $(0,0)$ is an equilibrium point. Since each possible initial condition $x(0) = (a,b)$ can be written as a linear combination of vectors $(0,1)$ and $(1,0)$ and $G(x)$ is a linear function. So from any location $(a,b)$ the space craft will dock correctly."
   ]
  }
 ],
 "metadata": {
  "kernelspec": {
   "display_name": "Julia 0.6.2",
   "language": "julia",
   "name": "julia-0.6"
  },
  "language_info": {
   "file_extension": ".jl",
   "mimetype": "application/julia",
   "name": "julia",
   "version": "0.6.2"
  }
 },
 "nbformat": 4,
 "nbformat_minor": 2
}
